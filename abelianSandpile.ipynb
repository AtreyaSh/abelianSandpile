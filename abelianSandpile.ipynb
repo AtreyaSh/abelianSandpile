{
 "cells": [
  {
   "cell_type": "code",
   "execution_count": 4,
   "metadata": {},
   "outputs": [],
   "source": [
    "import time\n",
    "import numpy\n",
    "from matplotlib import pyplot"
   ]
  },
  {
   "cell_type": "code",
   "execution_count": 5,
   "metadata": {},
   "outputs": [],
   "source": [
    "SIZE = (240, 240)\n",
    "\n",
    "# maximum number of stackable sand grains that will cause a tople\n",
    "# (should be dividable by 4!)\n",
    "\n",
    "MAXH = 4\n",
    "\n",
    "# first pile\n",
    "FPH = 100000\n",
    "MPC = (120,120)\n",
    "\n",
    "# sand field\n",
    "field = numpy.zeros((SIZE[0]+2,SIZE[1]+2))\n",
    "field[MPC[0]+1,MPC[1]+1] += FPH"
   ]
  },
  {
   "cell_type": "code",
   "execution_count": 3,
   "metadata": {},
   "outputs": [
    {
     "name": "stdout",
     "output_type": "stream",
     "text": [
      "1 iterations in 65.15 seconds\n"
     ]
    }
   ],
   "source": [
    "i = 0\n",
    "t0 = time.time()\n",
    "\n",
    "while numpy.max(field) >= MAXH:\n",
    "\n",
    "\t# find the highest pile\n",
    "\ttoohigh = field >= MAXH\n",
    "\t\n",
    "\t# decrease piles\n",
    "\tfield[toohigh] -= MAXH\n",
    "\t\n",
    "\t# increase piles\n",
    "\tfield[1:,:][toohigh[:-1,:]] += MAXH / 4\n",
    "\tfield[:-1,:][toohigh[1:,:]] += MAXH / 4\n",
    "\tfield[:,1:][toohigh[:,:-1]] += MAXH / 4\n",
    "\tfield[:,:-1][toohigh[:,1:]] += MAXH / 4\n",
    "\n",
    "\t# reset the overspill\n",
    "\tfield[0:1,:] = 0\n",
    "\tfield[1+SIZE[0]:,:] = 0\n",
    "\tfield[:,0:1] = 0\n",
    "\tfield[:,1+SIZE[1]:] = 0\n",
    "    i += 1\n",
    "    \n",
    "t1 = time.time()\n",
    "print(\"%d iterations in %.2f seconds\" % (i, t1-t0))"
   ]
  },
  {
   "cell_type": "code",
   "execution_count": 47,
   "metadata": {
    "collapsed": true,
    "scrolled": true
   },
   "outputs": [],
   "source": [
    "field = field[1:1+SIZE[0],1:1+SIZE[1]]\n",
    "fig = pyplot.figure(figsize=(10.0,10.0), dpi=100.0, frameon=False)\n",
    "ax = pyplot.Axes(fig, [0,0,1,1])\n",
    "ax.set_axis_off()\n",
    "fig.add_axes(ax)\n",
    "ax.imshow(field, cmap='Paired', vmin=0, vmax=3)\n",
    "pyplot.savefig(\"test_Limit4_12.png\", frameon=False)"
   ]
  },
  {
   "cell_type": "code",
   "execution_count": null,
   "metadata": {
    "collapsed": true
   },
   "outputs": [],
   "source": []
  },
  {
   "cell_type": "code",
   "execution_count": null,
   "metadata": {
    "collapsed": true
   },
   "outputs": [],
   "source": []
  }
 ],
 "metadata": {
  "kernelspec": {
   "display_name": "Python 2",
   "language": "python",
   "name": "python2"
  },
  "language_info": {
   "codemirror_mode": {
    "name": "ipython",
    "version": 2
   },
   "file_extension": ".py",
   "mimetype": "text/x-python",
   "name": "python",
   "nbconvert_exporter": "python",
   "pygments_lexer": "ipython2",
   "version": "2.7.15rc1"
  }
 },
 "nbformat": 4,
 "nbformat_minor": 2
}
